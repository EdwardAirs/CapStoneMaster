{
 "cells": [
  {
   "cell_type": "code",
   "execution_count": 72,
   "id": "ab247119-bc19-4143-98bc-b7072af2341d",
   "metadata": {},
   "outputs": [],
   "source": [
    "from pathlib import Path\n",
    "import sqlite3\n",
    "import pandas as pd\n",
    "import sqlalchemy"
   ]
  },
  {
   "cell_type": "code",
   "execution_count": 73,
   "id": "699521fc-cce3-4a9a-8c8a-02f1f8096623",
   "metadata": {},
   "outputs": [],
   "source": [
    "Path('SXDB.db').touch()"
   ]
  },
  {
   "cell_type": "code",
   "execution_count": 74,
   "id": "40d58b02-c9a2-4e9f-8de1-a683b67f8281",
   "metadata": {},
   "outputs": [],
   "source": [
    "conn = sqlite3.connect('SXDB.db')\n",
    "c = conn.cursor()"
   ]
  },
  {
   "cell_type": "code",
   "execution_count": 75,
   "id": "6833411a-b28b-4e38-8bfd-c26f8cdb479c",
   "metadata": {},
   "outputs": [
    {
     "data": {
      "text/html": [
       "<div>\n",
       "<style scoped>\n",
       "    .dataframe tbody tr th:only-of-type {\n",
       "        vertical-align: middle;\n",
       "    }\n",
       "\n",
       "    .dataframe tbody tr th {\n",
       "        vertical-align: top;\n",
       "    }\n",
       "\n",
       "    .dataframe thead th {\n",
       "        text-align: right;\n",
       "    }\n",
       "</style>\n",
       "<table border=\"1\" class=\"dataframe\">\n",
       "  <thead>\n",
       "    <tr style=\"text-align: right;\">\n",
       "      <th></th>\n",
       "      <th>Date</th>\n",
       "      <th>Time (UTC)</th>\n",
       "      <th>Booster_Version</th>\n",
       "      <th>Launch_Site</th>\n",
       "      <th>Payload</th>\n",
       "      <th>PAYLOAD_MASS__KG_</th>\n",
       "      <th>Orbit</th>\n",
       "      <th>Customer</th>\n",
       "      <th>Mission_Outcome</th>\n",
       "      <th>Landing _Outcome</th>\n",
       "    </tr>\n",
       "  </thead>\n",
       "  <tbody>\n",
       "    <tr>\n",
       "      <th>0</th>\n",
       "      <td>04-06-2010</td>\n",
       "      <td>18:45:00</td>\n",
       "      <td>F9 v1.0  B0003</td>\n",
       "      <td>CCAFS LC-40</td>\n",
       "      <td>Dragon Spacecraft Qualification Unit</td>\n",
       "      <td>0</td>\n",
       "      <td>LEO</td>\n",
       "      <td>SpaceX</td>\n",
       "      <td>Success</td>\n",
       "      <td>Failure (parachute)</td>\n",
       "    </tr>\n",
       "    <tr>\n",
       "      <th>1</th>\n",
       "      <td>08-12-2010</td>\n",
       "      <td>15:43:00</td>\n",
       "      <td>F9 v1.0  B0004</td>\n",
       "      <td>CCAFS LC-40</td>\n",
       "      <td>Dragon demo flight C1, two CubeSats, barrel of...</td>\n",
       "      <td>0</td>\n",
       "      <td>LEO (ISS)</td>\n",
       "      <td>NASA (COTS) NRO</td>\n",
       "      <td>Success</td>\n",
       "      <td>Failure (parachute)</td>\n",
       "    </tr>\n",
       "    <tr>\n",
       "      <th>2</th>\n",
       "      <td>22-05-2012</td>\n",
       "      <td>07:44:00</td>\n",
       "      <td>F9 v1.0  B0005</td>\n",
       "      <td>CCAFS LC-40</td>\n",
       "      <td>Dragon demo flight C2</td>\n",
       "      <td>525</td>\n",
       "      <td>LEO (ISS)</td>\n",
       "      <td>NASA (COTS)</td>\n",
       "      <td>Success</td>\n",
       "      <td>No attempt</td>\n",
       "    </tr>\n",
       "    <tr>\n",
       "      <th>3</th>\n",
       "      <td>08-10-2012</td>\n",
       "      <td>00:35:00</td>\n",
       "      <td>F9 v1.0  B0006</td>\n",
       "      <td>CCAFS LC-40</td>\n",
       "      <td>SpaceX CRS-1</td>\n",
       "      <td>500</td>\n",
       "      <td>LEO (ISS)</td>\n",
       "      <td>NASA (CRS)</td>\n",
       "      <td>Success</td>\n",
       "      <td>No attempt</td>\n",
       "    </tr>\n",
       "    <tr>\n",
       "      <th>4</th>\n",
       "      <td>01-03-2013</td>\n",
       "      <td>15:10:00</td>\n",
       "      <td>F9 v1.0  B0007</td>\n",
       "      <td>CCAFS LC-40</td>\n",
       "      <td>SpaceX CRS-2</td>\n",
       "      <td>677</td>\n",
       "      <td>LEO (ISS)</td>\n",
       "      <td>NASA (CRS)</td>\n",
       "      <td>Success</td>\n",
       "      <td>No attempt</td>\n",
       "    </tr>\n",
       "  </tbody>\n",
       "</table>\n",
       "</div>"
      ],
      "text/plain": [
       "         Date Time (UTC) Booster_Version  Launch_Site  \\\n",
       "0  04-06-2010   18:45:00  F9 v1.0  B0003  CCAFS LC-40   \n",
       "1  08-12-2010   15:43:00  F9 v1.0  B0004  CCAFS LC-40   \n",
       "2  22-05-2012   07:44:00  F9 v1.0  B0005  CCAFS LC-40   \n",
       "3  08-10-2012   00:35:00  F9 v1.0  B0006  CCAFS LC-40   \n",
       "4  01-03-2013   15:10:00  F9 v1.0  B0007  CCAFS LC-40   \n",
       "\n",
       "                                             Payload  PAYLOAD_MASS__KG_  \\\n",
       "0               Dragon Spacecraft Qualification Unit                  0   \n",
       "1  Dragon demo flight C1, two CubeSats, barrel of...                  0   \n",
       "2                              Dragon demo flight C2                525   \n",
       "3                                       SpaceX CRS-1                500   \n",
       "4                                       SpaceX CRS-2                677   \n",
       "\n",
       "       Orbit         Customer Mission_Outcome     Landing _Outcome  \n",
       "0        LEO           SpaceX         Success  Failure (parachute)  \n",
       "1  LEO (ISS)  NASA (COTS) NRO         Success  Failure (parachute)  \n",
       "2  LEO (ISS)      NASA (COTS)         Success           No attempt  \n",
       "3  LEO (ISS)       NASA (CRS)         Success           No attempt  \n",
       "4  LEO (ISS)       NASA (CRS)         Success           No attempt  "
      ]
     },
     "execution_count": 75,
     "metadata": {},
     "output_type": "execute_result"
    }
   ],
   "source": [
    "df = pd.read_csv('Spacex.csv')\n",
    "df.head()"
   ]
  },
  {
   "cell_type": "code",
   "execution_count": 76,
   "id": "653576bb-48b8-4a6d-b33d-bc9f8b9fb2dc",
   "metadata": {},
   "outputs": [],
   "source": [
    "df.rename(columns={'Landing _Outcome':'Landing_Outcome'}, inplace=True)"
   ]
  },
  {
   "cell_type": "code",
   "execution_count": 77,
   "id": "2d68c950-f194-4eda-8442-9881c9a9d95a",
   "metadata": {},
   "outputs": [
    {
     "data": {
      "text/html": [
       "<div>\n",
       "<style scoped>\n",
       "    .dataframe tbody tr th:only-of-type {\n",
       "        vertical-align: middle;\n",
       "    }\n",
       "\n",
       "    .dataframe tbody tr th {\n",
       "        vertical-align: top;\n",
       "    }\n",
       "\n",
       "    .dataframe thead th {\n",
       "        text-align: right;\n",
       "    }\n",
       "</style>\n",
       "<table border=\"1\" class=\"dataframe\">\n",
       "  <thead>\n",
       "    <tr style=\"text-align: right;\">\n",
       "      <th></th>\n",
       "      <th>Date</th>\n",
       "      <th>Time (UTC)</th>\n",
       "      <th>Booster_Version</th>\n",
       "      <th>Launch_Site</th>\n",
       "      <th>Payload</th>\n",
       "      <th>PAYLOAD_MASS__KG_</th>\n",
       "      <th>Orbit</th>\n",
       "      <th>Customer</th>\n",
       "      <th>Mission_Outcome</th>\n",
       "      <th>Landing_Outcome</th>\n",
       "    </tr>\n",
       "  </thead>\n",
       "  <tbody>\n",
       "    <tr>\n",
       "      <th>0</th>\n",
       "      <td>04-06-2010</td>\n",
       "      <td>18:45:00</td>\n",
       "      <td>F9 v1.0  B0003</td>\n",
       "      <td>CCAFS LC-40</td>\n",
       "      <td>Dragon Spacecraft Qualification Unit</td>\n",
       "      <td>0</td>\n",
       "      <td>LEO</td>\n",
       "      <td>SpaceX</td>\n",
       "      <td>Success</td>\n",
       "      <td>Failure (parachute)</td>\n",
       "    </tr>\n",
       "    <tr>\n",
       "      <th>1</th>\n",
       "      <td>08-12-2010</td>\n",
       "      <td>15:43:00</td>\n",
       "      <td>F9 v1.0  B0004</td>\n",
       "      <td>CCAFS LC-40</td>\n",
       "      <td>Dragon demo flight C1, two CubeSats, barrel of...</td>\n",
       "      <td>0</td>\n",
       "      <td>LEO (ISS)</td>\n",
       "      <td>NASA (COTS) NRO</td>\n",
       "      <td>Success</td>\n",
       "      <td>Failure (parachute)</td>\n",
       "    </tr>\n",
       "    <tr>\n",
       "      <th>2</th>\n",
       "      <td>22-05-2012</td>\n",
       "      <td>07:44:00</td>\n",
       "      <td>F9 v1.0  B0005</td>\n",
       "      <td>CCAFS LC-40</td>\n",
       "      <td>Dragon demo flight C2</td>\n",
       "      <td>525</td>\n",
       "      <td>LEO (ISS)</td>\n",
       "      <td>NASA (COTS)</td>\n",
       "      <td>Success</td>\n",
       "      <td>No attempt</td>\n",
       "    </tr>\n",
       "    <tr>\n",
       "      <th>3</th>\n",
       "      <td>08-10-2012</td>\n",
       "      <td>00:35:00</td>\n",
       "      <td>F9 v1.0  B0006</td>\n",
       "      <td>CCAFS LC-40</td>\n",
       "      <td>SpaceX CRS-1</td>\n",
       "      <td>500</td>\n",
       "      <td>LEO (ISS)</td>\n",
       "      <td>NASA (CRS)</td>\n",
       "      <td>Success</td>\n",
       "      <td>No attempt</td>\n",
       "    </tr>\n",
       "    <tr>\n",
       "      <th>4</th>\n",
       "      <td>01-03-2013</td>\n",
       "      <td>15:10:00</td>\n",
       "      <td>F9 v1.0  B0007</td>\n",
       "      <td>CCAFS LC-40</td>\n",
       "      <td>SpaceX CRS-2</td>\n",
       "      <td>677</td>\n",
       "      <td>LEO (ISS)</td>\n",
       "      <td>NASA (CRS)</td>\n",
       "      <td>Success</td>\n",
       "      <td>No attempt</td>\n",
       "    </tr>\n",
       "  </tbody>\n",
       "</table>\n",
       "</div>"
      ],
      "text/plain": [
       "         Date Time (UTC) Booster_Version  Launch_Site  \\\n",
       "0  04-06-2010   18:45:00  F9 v1.0  B0003  CCAFS LC-40   \n",
       "1  08-12-2010   15:43:00  F9 v1.0  B0004  CCAFS LC-40   \n",
       "2  22-05-2012   07:44:00  F9 v1.0  B0005  CCAFS LC-40   \n",
       "3  08-10-2012   00:35:00  F9 v1.0  B0006  CCAFS LC-40   \n",
       "4  01-03-2013   15:10:00  F9 v1.0  B0007  CCAFS LC-40   \n",
       "\n",
       "                                             Payload  PAYLOAD_MASS__KG_  \\\n",
       "0               Dragon Spacecraft Qualification Unit                  0   \n",
       "1  Dragon demo flight C1, two CubeSats, barrel of...                  0   \n",
       "2                              Dragon demo flight C2                525   \n",
       "3                                       SpaceX CRS-1                500   \n",
       "4                                       SpaceX CRS-2                677   \n",
       "\n",
       "       Orbit         Customer Mission_Outcome      Landing_Outcome  \n",
       "0        LEO           SpaceX         Success  Failure (parachute)  \n",
       "1  LEO (ISS)  NASA (COTS) NRO         Success  Failure (parachute)  \n",
       "2  LEO (ISS)      NASA (COTS)         Success           No attempt  \n",
       "3  LEO (ISS)       NASA (CRS)         Success           No attempt  \n",
       "4  LEO (ISS)       NASA (CRS)         Success           No attempt  "
      ]
     },
     "execution_count": 77,
     "metadata": {},
     "output_type": "execute_result"
    }
   ],
   "source": [
    "df.head()"
   ]
  },
  {
   "cell_type": "code",
   "execution_count": 113,
   "id": "7842df55-d50a-47fe-a738-3b10af89f25f",
   "metadata": {},
   "outputs": [
    {
     "data": {
      "text/plain": [
       "Index(['Date', 'Time (UTC)', 'Booster_Version', 'Launch_Site', 'Payload',\n",
       "       'PAYLOAD_MASS__KG_', 'Orbit', 'Customer', 'Mission_Outcome',\n",
       "       'Landing_Outcome'],\n",
       "      dtype='object')"
      ]
     },
     "execution_count": 113,
     "metadata": {},
     "output_type": "execute_result"
    }
   ],
   "source": [
    "df.columns"
   ]
  },
  {
   "cell_type": "code",
   "execution_count": 78,
   "id": "39d14284-dca2-4b10-ae6f-2653fdfaac6f",
   "metadata": {},
   "outputs": [
    {
     "data": {
      "text/plain": [
       "<sqlite3.Cursor at 0x7f7027e359d0>"
      ]
     },
     "execution_count": 78,
     "metadata": {},
     "output_type": "execute_result"
    }
   ],
   "source": [
    "c.execute(''' CREATE TABLE IF NOT EXISTS SXDB (\n",
    "                        'Date' DATE,\n",
    "                        'Time (UTC)' DATETIME,\n",
    "                        'Booster_Version' varchar(30),\n",
    "                        'Launch_Site' varchar(30),\n",
    "                        'Payload' vrchar(80),\n",
    "                        'PAYLOAD_MASS__KG_' int(90),\n",
    "                        'Orbit' varchar(30),\n",
    "                        'Customer' varchar (60),\n",
    "                        'Mission_Outcome' varchar(50),\n",
    "                        'Landing_Outcome' varchar(80))''')"
   ]
  },
  {
   "cell_type": "code",
   "execution_count": 79,
   "id": "7d01fca2-5782-49f7-8731-c6e22ea55268",
   "metadata": {},
   "outputs": [
    {
     "name": "stderr",
     "output_type": "stream",
     "text": [
      "/home/edward/anaconda3/lib/python3.8/site-packages/pandas/core/generic.py:2872: UserWarning: The spaces in these column names will not be changed. In pandas versions < 0.14, spaces were converted to underscores.\n",
      "  sql.to_sql(\n"
     ]
    }
   ],
   "source": [
    "df.to_sql('SXDB', conn, if_exists='append', index=False)"
   ]
  },
  {
   "cell_type": "code",
   "execution_count": 80,
   "id": "ec44d9ac-009d-45aa-b01a-d9bacdda3bbf",
   "metadata": {},
   "outputs": [
    {
     "data": {
      "text/plain": [
       "<sqlite3.Cursor at 0x7f7027e359d0>"
      ]
     },
     "execution_count": 80,
     "metadata": {},
     "output_type": "execute_result"
    }
   ],
   "source": [
    "c.execute('''SELECT * FROM SXDB''')"
   ]
  },
  {
   "cell_type": "markdown",
   "id": "457d1319-19dc-43a1-9522-887eac6b323e",
   "metadata": {
    "tags": []
   },
   "source": [
    "## Tasks\n",
    "\n",
    "Now write and execute SQL queries to solve the assignment tasks.\n",
    "\n",
    "### Task 1\n",
    "\n",
    "##### Display the names of the unique launch sites  in the space mission\n"
   ]
  },
  {
   "cell_type": "code",
   "execution_count": 81,
   "id": "eb690901-fdfc-4143-9ae7-fab95da10634",
   "metadata": {
    "tags": []
   },
   "outputs": [
    {
     "data": {
      "text/plain": [
       "[('CCAFS LC-40',), ('VAFB SLC-4E',), ('KSC LC-39A',), ('CCAFS SLC-40',)]"
      ]
     },
     "execution_count": 81,
     "metadata": {},
     "output_type": "execute_result"
    }
   ],
   "source": [
    "c.execute('''SELECT DISTINCT Launch_Site FROM SXDB''').fetchall()"
   ]
  },
  {
   "cell_type": "markdown",
   "id": "b7bb0f93-14ff-4233-89f5-32dc65d632b0",
   "metadata": {},
   "source": [
    "### Task 2\n",
    "\n",
    "##### Display 5 records where launch sites begin with the string 'CCA'"
   ]
  },
  {
   "cell_type": "code",
   "execution_count": 82,
   "id": "c491de7e-812a-403e-b041-2ff24bab42f2",
   "metadata": {
    "tags": []
   },
   "outputs": [
    {
     "data": {
      "text/plain": [
       "[('04-06-2010',\n",
       "  '18:45:00',\n",
       "  'F9 v1.0  B0003',\n",
       "  'CCAFS LC-40',\n",
       "  'Dragon Spacecraft Qualification Unit',\n",
       "  0,\n",
       "  'LEO',\n",
       "  'SpaceX',\n",
       "  'Success',\n",
       "  'Failure (parachute)'),\n",
       " ('08-12-2010',\n",
       "  '15:43:00',\n",
       "  'F9 v1.0  B0004',\n",
       "  'CCAFS LC-40',\n",
       "  'Dragon demo flight C1, two CubeSats, barrel of Brouere cheese',\n",
       "  0,\n",
       "  'LEO (ISS)',\n",
       "  'NASA (COTS) NRO',\n",
       "  'Success',\n",
       "  'Failure (parachute)'),\n",
       " ('22-05-2012',\n",
       "  '07:44:00',\n",
       "  'F9 v1.0  B0005',\n",
       "  'CCAFS LC-40',\n",
       "  'Dragon demo flight C2',\n",
       "  525,\n",
       "  'LEO (ISS)',\n",
       "  'NASA (COTS)',\n",
       "  'Success',\n",
       "  'No attempt'),\n",
       " ('08-10-2012',\n",
       "  '00:35:00',\n",
       "  'F9 v1.0  B0006',\n",
       "  'CCAFS LC-40',\n",
       "  'SpaceX CRS-1',\n",
       "  500,\n",
       "  'LEO (ISS)',\n",
       "  'NASA (CRS)',\n",
       "  'Success',\n",
       "  'No attempt'),\n",
       " ('01-03-2013',\n",
       "  '15:10:00',\n",
       "  'F9 v1.0  B0007',\n",
       "  'CCAFS LC-40',\n",
       "  'SpaceX CRS-2',\n",
       "  677,\n",
       "  'LEO (ISS)',\n",
       "  'NASA (CRS)',\n",
       "  'Success',\n",
       "  'No attempt')]"
      ]
     },
     "execution_count": 82,
     "metadata": {},
     "output_type": "execute_result"
    }
   ],
   "source": [
    "c.execute('''SELECT * FROM SXDB WHERE Launch_Site > 'CCA' LIMIT 5''').fetchall()"
   ]
  },
  {
   "cell_type": "code",
   "execution_count": null,
   "id": "858adbcc-2758-4d1b-94ac-b83355ae2b5c",
   "metadata": {},
   "outputs": [],
   "source": []
  },
  {
   "cell_type": "markdown",
   "id": "22cb1d16-b3bf-4139-ae01-89a4944b128c",
   "metadata": {},
   "source": [
    "### Task 3\n",
    "\n",
    "##### Display the total payload mass carried by boosters launched by NASA (CRS)\n"
   ]
  },
  {
   "cell_type": "code",
   "execution_count": 83,
   "id": "26a36fcf-10ea-40ff-940f-a0408dce3f5c",
   "metadata": {},
   "outputs": [
    {
     "data": {
      "text/plain": [
       "[(45596,)]"
      ]
     },
     "execution_count": 83,
     "metadata": {},
     "output_type": "execute_result"
    }
   ],
   "source": [
    "c.execute('''SELECT SUM(PAYLOAD_MASS__KG_) FROM SXDB WHERE Customer = \"NASA (CRS)\"''').fetchall()"
   ]
  },
  {
   "cell_type": "code",
   "execution_count": null,
   "id": "ec5df936-8000-44e1-bb66-d6da3fe7e306",
   "metadata": {},
   "outputs": [],
   "source": []
  },
  {
   "cell_type": "markdown",
   "id": "ec7ffc01-15c1-4c2f-8a6c-033bacff5bae",
   "metadata": {},
   "source": [
    "### Task 4\n",
    "\n",
    "##### Display average payload mass carried by booster version F9 v1.1\n"
   ]
  },
  {
   "cell_type": "code",
   "execution_count": 84,
   "id": "9ae4ef66-05de-402b-bab4-19b0f8d3abfd",
   "metadata": {},
   "outputs": [
    {
     "data": {
      "text/plain": [
       "[(2928.4,)]"
      ]
     },
     "execution_count": 84,
     "metadata": {},
     "output_type": "execute_result"
    }
   ],
   "source": [
    "c.execute('''SELECT AVG(PAYLOAD_MASS__KG_) FROM SXDB WHERE Booster_Version = \"F9 v1.1\"''').fetchall()"
   ]
  },
  {
   "cell_type": "code",
   "execution_count": null,
   "id": "70af4f6b-b30a-47cb-8970-051ce371d272",
   "metadata": {},
   "outputs": [],
   "source": []
  },
  {
   "cell_type": "markdown",
   "id": "c201c7da-b74f-4046-b678-774819cc9a29",
   "metadata": {},
   "source": [
    "### Task 5\n",
    "\n",
    "##### List the date when the first successful landing outcome in ground pad was acheived.\n",
    "\n",
    "*Hint:Use min function*\n"
   ]
  },
  {
   "cell_type": "code",
   "execution_count": 85,
   "id": "f6b87e2b-86a5-422a-b75b-3e8bcb177e26",
   "metadata": {},
   "outputs": [
    {
     "data": {
      "text/plain": [
       "[('01-03-2013',)]"
      ]
     },
     "execution_count": 85,
     "metadata": {},
     "output_type": "execute_result"
    }
   ],
   "source": [
    "c.execute(''' SELECT MIN(Date) FROM SXDB WHERE Mission_Outcome =\"Success\" ''').fetchall()"
   ]
  },
  {
   "cell_type": "markdown",
   "id": "f0ab25f6-6cf4-4934-b881-547f52d120d9",
   "metadata": {},
   "source": [
    "### Task 6\n",
    "\n",
    "##### List the names of the boosters which have success in drone ship and have payload mass greater than 4000 but less than 6000\n"
   ]
  },
  {
   "cell_type": "code",
   "execution_count": 102,
   "id": "5f2713f1-f1ad-42c1-87a6-567722ef7375",
   "metadata": {},
   "outputs": [
    {
     "data": {
      "text/plain": [
       "[('F9 FT B1022',), ('F9 FT B1026',), ('F9 FT  B1021.2',), ('F9 FT  B1031.2',)]"
      ]
     },
     "execution_count": 102,
     "metadata": {},
     "output_type": "execute_result"
    }
   ],
   "source": [
    "c.execute(''' SELECT Booster_Version FROM SXDB WHERE Landing_Outcome = \"Success (drone ship)\" AND PAYLOAD_MASS__KG_ BETWEEN 4000 AND 6000 ''').fetchall()"
   ]
  },
  {
   "cell_type": "code",
   "execution_count": null,
   "id": "d235679a-b4ad-45e2-847f-e9b857c97769",
   "metadata": {},
   "outputs": [],
   "source": []
  },
  {
   "cell_type": "markdown",
   "id": "deacfd14-8f1e-45fe-b962-b9fdda74f7db",
   "metadata": {},
   "source": [
    "### Task 7\n",
    "\n",
    "##### List the total number of successful and failure mission outcomes\n"
   ]
  },
  {
   "cell_type": "code",
   "execution_count": 103,
   "id": "f14def65-450d-455c-a256-3b3fb11c80f3",
   "metadata": {},
   "outputs": [
    {
     "data": {
      "text/plain": [
       "[(1, 'Failure (in flight)'),\n",
       " (98, 'Success'),\n",
       " (1, 'Success '),\n",
       " (1, 'Success (payload status unclear)')]"
      ]
     },
     "execution_count": 103,
     "metadata": {},
     "output_type": "execute_result"
    }
   ],
   "source": [
    "c.execute('''SELECT COUNT(*), Mission_Outcome FROM SXDB GROUP BY Mission_Outcome''').fetchall()"
   ]
  },
  {
   "cell_type": "code",
   "execution_count": null,
   "id": "c1f4fe34-d549-44d8-8fa7-81ad5a129704",
   "metadata": {},
   "outputs": [],
   "source": []
  },
  {
   "cell_type": "markdown",
   "id": "fe614495-0fdb-4af0-b1a9-efaf584abdd6",
   "metadata": {},
   "source": [
    "### Task 8\n",
    "\n",
    "##### List the   names of the booster_versions which have carried the maximum payload mass. Use a subquery\n"
   ]
  },
  {
   "cell_type": "code",
   "execution_count": 104,
   "id": "8dd21be3-65e5-410e-acfd-dea4d6670692",
   "metadata": {},
   "outputs": [
    {
     "data": {
      "text/plain": [
       "[('F9 B5 B1048.4',),\n",
       " ('F9 B5 B1049.4',),\n",
       " ('F9 B5 B1051.3',),\n",
       " ('F9 B5 B1056.4',),\n",
       " ('F9 B5 B1048.5',),\n",
       " ('F9 B5 B1051.4',),\n",
       " ('F9 B5 B1049.5',),\n",
       " ('F9 B5 B1060.2 ',),\n",
       " ('F9 B5 B1058.3 ',),\n",
       " ('F9 B5 B1051.6',),\n",
       " ('F9 B5 B1060.3',),\n",
       " ('F9 B5 B1049.7 ',)]"
      ]
     },
     "execution_count": 104,
     "metadata": {},
     "output_type": "execute_result"
    }
   ],
   "source": [
    "c.execute('''SELECT Booster_Version FROM SXDB WHERE PAYLOAD_MASS__KG_ = (SELECT MAX(PAYLOAD_MASS__KG_) FROM SXDB)''').fetchall()"
   ]
  },
  {
   "cell_type": "code",
   "execution_count": null,
   "id": "31d85c78-f8bd-4fe9-88b6-d28f75096887",
   "metadata": {},
   "outputs": [],
   "source": []
  },
  {
   "cell_type": "markdown",
   "id": "2c258d7b-9f68-4ec9-830f-6a235750d110",
   "metadata": {},
   "source": [
    "### Task 9\n",
    "\n",
    "##### List the failed landing_outcomes in drone ship, their booster versions, and launch site names for in year 2015\n"
   ]
  },
  {
   "cell_type": "code",
   "execution_count": 120,
   "id": "32e65a16-ab9c-40c7-a5ad-80767e562971",
   "metadata": {},
   "outputs": [
    {
     "data": {
      "text/plain": [
       "[('F9 v1.1 B1012', 'CCAFS LC-40'),\n",
       " ('F9 v1.1 B1015', 'CCAFS LC-40'),\n",
       " ('F9 v1.1 B1017', 'VAFB SLC-4E'),\n",
       " ('F9 FT B1020', 'CCAFS LC-40'),\n",
       " ('F9 FT B1024', 'CCAFS LC-40')]"
      ]
     },
     "execution_count": 120,
     "metadata": {},
     "output_type": "execute_result"
    }
   ],
   "source": [
    "c.execute('''SELECT Booster_Version, Launch_Site FROM SXDB WHERE Landing_Outcome = \"Failure (drone ship)\" AND Date BETWEEN \"01-01-2015\" AND \"31-12-2015\"''').fetchall()"
   ]
  },
  {
   "cell_type": "code",
   "execution_count": null,
   "id": "eb8d3e36-dae7-412f-a010-be15d7d2e846",
   "metadata": {},
   "outputs": [],
   "source": []
  },
  {
   "cell_type": "markdown",
   "id": "1ce9a30b-9572-47d6-8316-1a1b551db7ca",
   "metadata": {},
   "source": [
    "### Task 10\n",
    "\n",
    "##### Rank the count of landing outcomes (such as Failure (drone ship) or Success (ground pad)) between the date 2010-06-04 and 2017-03-20, in descending order\n"
   ]
  },
  {
   "cell_type": "code",
   "execution_count": 121,
   "id": "61cbe269-6a36-4ee5-a519-9450dfe9b444",
   "metadata": {},
   "outputs": [
    {
     "data": {
      "text/plain": [
       "[(20, 'Success'),\n",
       " (10, 'No attempt'),\n",
       " (8, 'Success (drone ship)'),\n",
       " (6, 'Success (ground pad)'),\n",
       " (4, 'Failure (drone ship)'),\n",
       " (3, 'Failure'),\n",
       " (3, 'Controlled (ocean)'),\n",
       " (2, 'Failure (parachute)'),\n",
       " (1, 'No attempt ')]"
      ]
     },
     "execution_count": 121,
     "metadata": {},
     "output_type": "execute_result"
    }
   ],
   "source": [
    "c.execute(''' SELECT COUNT(*) AS count, Landing_Outcome FROM SXDB WHERE Date BETWEEN \"04-06-2010\" AND \"20-03-2017\" GROUP BY Landing_Outcome ORDER BY count DESC''').fetchall()"
   ]
  },
  {
   "cell_type": "code",
   "execution_count": null,
   "id": "764b112c-d5b4-492e-addf-cb6f9da485f2",
   "metadata": {},
   "outputs": [],
   "source": []
  },
  {
   "cell_type": "code",
   "execution_count": null,
   "id": "92f80025-6ac8-44ce-abca-680def153594",
   "metadata": {},
   "outputs": [],
   "source": []
  }
 ],
 "metadata": {
  "kernelspec": {
   "display_name": "Python 3 (ipykernel)",
   "language": "python",
   "name": "python3"
  },
  "language_info": {
   "codemirror_mode": {
    "name": "ipython",
    "version": 3
   },
   "file_extension": ".py",
   "mimetype": "text/x-python",
   "name": "python",
   "nbconvert_exporter": "python",
   "pygments_lexer": "ipython3",
   "version": "3.8.11"
  }
 },
 "nbformat": 4,
 "nbformat_minor": 5
}
